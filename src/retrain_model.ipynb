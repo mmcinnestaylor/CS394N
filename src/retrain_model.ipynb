{
 "cells": [
  {
   "cell_type": "code",
   "execution_count": null,
   "id": "c3877a25-2fd8-4b1f-97b0-7458355c1bfd",
   "metadata": {},
   "outputs": [],
   "source": [
    "from google.colab import drive\n",
    "drive.mount('/content/gdrive')"
   ]
  },
  {
   "cell_type": "code",
   "execution_count": null,
   "id": "8a2adc02-9beb-4d4b-8ade-80b0d90aa1ca",
   "metadata": {},
   "outputs": [],
   "source": [
    "%cd / content/gdrive/MyDrive/cs394n_project/CS394N\n",
    "! pip3 install -r requirements.txt"
   ]
  },
  {
   "cell_type": "code",
   "execution_count": null,
   "id": "318ff64a-cbb6-44f6-b31a-30231d52bc80",
   "metadata": {},
   "outputs": [],
   "source": [
    "# Update path for custom module support in Google Colab\n",
    "import sys\n",
    "sys.path.append('/content/gdrive/MyDrive/cs394n_project/CS394N/src')"
   ]
  },
  {
   "cell_type": "code",
   "execution_count": 1,
   "id": "4f58bb2d-dc5d-4713-8619-3f47dcf017e5",
   "metadata": {},
   "outputs": [
    {
     "name": "stderr",
     "output_type": "stream",
     "text": [
      "/opt/conda/lib/python3.10/site-packages/tqdm/auto.py:22: TqdmWarning: IProgress not found. Please update jupyter and ipywidgets. See https://ipywidgets.readthedocs.io/en/stable/user_install.html\n",
      "  from .autonotebook import tqdm as notebook_tqdm\n"
     ]
    }
   ],
   "source": [
    "import torch\n",
    "import matplotlib.pyplot as plt\n",
    "import numpy as np\n",
    "\n",
    "from torch.utils.data import DataLoader\n",
    "\n",
    "from torchvision import transforms\n",
    "from torchvision.datasets import CIFAR10, FashionMNIST\n",
    "\n",
    "from tqdm.autonotebook import tqdm, trange\n",
    "\n",
    "from utils.nets import *\n",
    "from utils.model_tools import *\n",
    "from utils.dataset_tools import split_training_data\n",
    "from utils.feature_extractor import *\n",
    "from utils.cosine_similarity import *"
   ]
  },
  {
   "cell_type": "code",
   "execution_count": 7,
   "id": "906696b9-a616-41ee-a61e-0c7384c109da",
   "metadata": {},
   "outputs": [
    {
     "name": "stdout",
     "output_type": "stream",
     "text": [
      "Using cpu device\n"
     ]
    }
   ],
   "source": [
    "# Get cpu or gpu device for training.\n",
    "device = \"cuda\" if torch.cuda.is_available() else \"cpu\"\n",
    "print(f\"Using {device} device\")"
   ]
  },
  {
   "cell_type": "code",
   "execution_count": 5,
   "id": "5186ff7d-126d-4f2d-93e8-7f57b5375305",
   "metadata": {},
   "outputs": [],
   "source": [
    "model_dir = './models/'\n",
    "log_dir = './logs'\n",
    "\n",
    "model_selection = 'linear' # linear | cnn | vgg\n",
    "dataset_selection = 'fashionmnist' # cifar10 | fashionmnist\n",
    "\n",
    "ckpt_file = model_dir+'linear_fashionmnist_holdout_[8, 9].pt'\n",
    "\n",
    "holdout_classes = [8, 9]\n",
    "new_class = 8\n",
    "\n",
    "batch_size = 32\n",
    "num_classes = 9"
   ]
  },
  {
   "cell_type": "markdown",
   "id": "d58ac2e4-6c4e-4ed6-9259-e6e4cec8231d",
   "metadata": {},
   "source": [
    "#### Hyperparameters"
   ]
  },
  {
   "cell_type": "code",
   "execution_count": 11,
   "id": "9edbc22b-260d-4063-a831-2ef8dbe0aded",
   "metadata": {},
   "outputs": [],
   "source": [
    "num_epochs = 15\n",
    "\n",
    "initial_learning_rate = 0.001\n",
    "final_learning_rate = 0.0001\n",
    "\n",
    "# initial_lr * decay_rate^num_epochs = final_lr\n",
    "decay_rate = (final_learning_rate/initial_learning_rate)**(1/num_epochs)\n",
    "\n",
    "loss_fn = torch.nn.CrossEntropyLoss()\n",
    "#optimizer = torch.optim.Adam(model.parameters(), lr=initial_learning_rate)\n",
    "#lr_scheduler = torch.optim.lr_scheduler.ExponentialLR(optimizer=optimizer, gamma=decay_rate)"
   ]
  },
  {
   "cell_type": "markdown",
   "id": "c3b7102a-5149-4ae9-9785-c3ac60aeb8f7",
   "metadata": {
    "tags": []
   },
   "source": [
    "# Data Preparation"
   ]
  },
  {
   "cell_type": "code",
   "execution_count": 12,
   "id": "ec55e773-5c48-42c4-a5ac-f27d123aa3ba",
   "metadata": {},
   "outputs": [],
   "source": [
    "if dataset_selection == 'fashionmnist':\n",
    "    transform = transforms.Compose([\n",
    "        transforms.ToTensor(),\n",
    "        transforms.Normalize((0.5), (0.5)),]) # Images are grayscale -> 1 channel\n",
    "else:\n",
    "    transform = transforms.Compose([\n",
    "        transforms.ToTensor(),\n",
    "        transforms.Normalize((0.5, 0.5, 0.5), (0.5, 0.5, 0.5))])"
   ]
  },
  {
   "cell_type": "code",
   "execution_count": 13,
   "id": "542addba-1c68-4864-ad0a-925f2d4c1bf3",
   "metadata": {},
   "outputs": [],
   "source": [
    "if dataset_selection == 'cifar10':\n",
    "    train_data = CIFAR10(root='./data', train=True, download=True, transform=transform)\n",
    "    test_data = CIFAR10(root='./data', train=False, download=True, transform=transform)\n",
    "elif dataset_selection == 'fashionmnist':\n",
    "    train_data = FashionMNIST(root='./data', train=True, download=True, transform=transform)\n",
    "    test_data = FashionMNIST(root='./data', train=False, download=True, transform=transform)"
   ]
  },
  {
   "cell_type": "code",
   "execution_count": 14,
   "id": "c6ef117b-f6d5-4ab1-85a4-7f9b7071fff0",
   "metadata": {},
   "outputs": [],
   "source": [
    "total_classes = len(np.unique(train_data.targets))"
   ]
  },
  {
   "cell_type": "markdown",
   "id": "d17ef9aa-020c-4590-8041-11e99be77fc5",
   "metadata": {
    "jp-MarkdownHeadingCollapsed": true,
    "tags": []
   },
   "source": [
    "## FOL"
   ]
  },
  {
   "cell_type": "code",
   "execution_count": 8,
   "id": "6b6b8f11-e3c8-4d81-af9c-5ca74f31c5aa",
   "metadata": {},
   "outputs": [],
   "source": [
    "if model_selection == 'linear':\n",
    "    fol_model = add_output_nodes(ckpt_file, device, arch='linear')\n",
    "    fol_model.input_layer.requires_grad_(False)\n",
    "elif model_selection == 'cnn-demo':\n",
    "    fol_model = add_output_nodes(ckpt_file, device, arch='cnn-demo')\n",
    "    fol_model.conv1.requires_grad_(False)\n",
    "    fol_model.conv2.requires_grad_(False)\n",
    "    fol_model.fc1.requires_grad_(False)\n",
    "elif model_selection == 'cnn':\n",
    "    fol_model = add_output_nodes(ckpt_file, device, arch='cnn')\n",
    "    fol_model.conv_block1.requires_grad_(False)\n",
    "    fol_model.conv_block2.requires_grad_(False)\n",
    "    fol_model.conv_block3.Conv5.requires_grad_(False)\n",
    "    fol_model.conv_block3.Relu5.requires_grad_(False)\n",
    "    fol_model.conv_block3.BN5.requires_grad_(False)\n",
    "    \n",
    "fol_model = fol_model.to(device)"
   ]
  },
  {
   "cell_type": "code",
   "execution_count": 12,
   "id": "be09c870-bc2d-4b93-b6b3-6dc42ecb1598",
   "metadata": {},
   "outputs": [],
   "source": [
    "fol_optimizer = torch.optim.Adam(fol_model.parameters(), lr=initial_learning_rate)\n",
    "fol_lr_scheduler = torch.optim.lr_scheduler.ExponentialLR(optimizer=fol_optimizer, gamma=decay_rate)"
   ]
  },
  {
   "cell_type": "code",
   "execution_count": null,
   "id": "6419b495-0901-4e7f-8de9-00d0df864ed3",
   "metadata": {},
   "outputs": [],
   "source": [
    "# just train on the new class\n",
    "included_data, excluded_data = split_training_data(train_data, [new_class]) \n",
    "train_fol_loader = DataLoader(excluded_data, batch_size=batch_size, shuffle=True, num_workers=2)\n",
    "\n",
    "# but test on the full 9 classes (old classes + new one, still excluding one)\n",
    "included_data, excluded_data = split_training_data(test_data, [8])\n",
    "test_fol_loader = DataLoader(included_data, batch_size=batch_size, shuffle=True, num_workers=2)"
   ]
  },
  {
   "cell_type": "code",
   "execution_count": null,
   "id": "4edc00f9-db30-49ad-836a-6aad51c4a317",
   "metadata": {},
   "outputs": [],
   "source": [
    "model_file_fol = weight_dir + model_selection + '_' + dataset_selection + '_' + 'holdout' + '_' + '[8]' + 'fol' + '.pt'\n",
    "\n",
    "recall_file_fol = log_dir + model_selection + '_' + dataset_selection + '_' + 'holdout' + '_' + '[8]' + 'fol' + '_recall.npy'\n",
    "train_losses_file_fol = log_dir + model_selection + '_' + dataset_selection + '_' + 'holdout' + '_' + '[8]' + 'fol' + '_train_loss.txt'\n",
    "test_losses_file_fol = log_dir + model_selection + '_' + dataset_selection + '_' + 'holdout' + '_' + '[8]' + 'fol' + '_test_loss.txt'"
   ]
  },
  {
   "cell_type": "markdown",
   "id": "4f2f33e4-480c-44f0-aea7-0655441cefaa",
   "metadata": {},
   "source": [
    "### Training Loop"
   ]
  },
  {
   "cell_type": "code",
   "execution_count": null,
   "id": "0c4dd414-861b-4d1b-bbf9-b012dae09887",
   "metadata": {},
   "outputs": [],
   "source": [
    "train_losses = []\n",
    "test_losses = []\n",
    "#t = trange(num_epochs)\n",
    "t = range(num_epochs)\n",
    "y_preds = []\n",
    "y_actuals = []\n",
    "\n",
    "for epoch in t:\n",
    "    print(f\"Epoch {epoch+1}\\n-------------------------------\")\n",
    "    train_loss = train(train_fol_loader, fol_model, loss_fn, fol_optimizer, device)\n",
    "    test_loss, y_pred, y_actual = test(test_fol_loader, fol_model, loss_fn, device, swap=True, swap_labels=[9,8])\n",
    "    print('y_pred:', y_pred[:2])\n",
    "    print('y_actual:', y_actual[:2])\n",
    "    train_losses.append(train_loss)\n",
    "    test_losses.append(test_loss)\n",
    "    y_preds.append(y_pred)\n",
    "    y_actuals.append(y_actual)\n",
    "    \n",
    "    fol_lr_scheduler.step()\n",
    "    \n",
    "torch.save(fol_model.state_dict(), model_file_fol)\n",
    "\n",
    "\n",
    "recalls = get_recall_per_epoch(y_actuals, y_preds, num_classes)\n",
    "np.save(recall_file_fol, recalls)\n",
    "\n",
    "with open(train_losses_file_fol, 'w') as fp:\n",
    "    for s in train_losses:\n",
    "        fp.write(\"%s\\n\" % s)\n",
    "        \n",
    "with open(test_losses_file_fol, 'w') as fp:\n",
    "    for x in test_losses:\n",
    "        fp.write(\"%s\\n\" % x)\n",
    "\n",
    "print(\"Done!\")\n",
    "\n",
    "# Ok I'm struggling with getting data loading correct for FOL but I'm not sure we even need it"
   ]
  },
  {
   "cell_type": "markdown",
   "id": "33948a56-6ae4-449b-a87b-8163a91a2a07",
   "metadata": {
    "tags": []
   },
   "source": [
    "## SWIL"
   ]
  },
  {
   "cell_type": "code",
   "execution_count": 82,
   "id": "ae8b977e-888e-4ec3-af90-7b5a8f981df2",
   "metadata": {},
   "outputs": [],
   "source": [
    "def test(dataloader, model, loss_fn, device, swap=False, swap_labels=[], classes = 9) -> float:\n",
    "    '''\n",
    "        Model test loop. Performs a single epoch of model updates.\n",
    "\n",
    "        * USAGE *\n",
    "        Within a training loop of range(num_epochs) to perform epoch validation, or after training to perform testing.\n",
    "\n",
    "        * PARAMETERS *\n",
    "        dataloader: A torch.utils.data.DataLoader object\n",
    "        model: A torch model which subclasses torch.nn.Module\n",
    "        loss_fn: A torch loss function, such as torch.nn.CrossEntropyLoss\n",
    "        optimizer: A torch.optim optimizer\n",
    "        device: 'cuda' or 'cpu'\n",
    "\n",
    "        * RETURNS *\n",
    "        float: The average test loss\n",
    "    '''\n",
    "\n",
    "    # TODO: can the swap stuff be removed now?\n",
    "    \n",
    "    size = len(dataloader.dataset)\n",
    "    num_batches = len(dataloader)\n",
    "    test_loss, correct = 0, 0\n",
    "    y_pred_list, targets = [], []\n",
    "\n",
    "    model.eval()\n",
    "    with torch.no_grad():\n",
    "        for X, y in dataloader:\n",
    "            if swap:\n",
    "                for i in range(len(y)):\n",
    "                    if y[i] == swap_labels[0]:\n",
    "                        y[i] = swap_labels[1]\n",
    "            X, y = X.to(device), y.to(device)\n",
    "            pred = model(X)\n",
    "            targets.append(y.tolist())\n",
    "            test_loss += loss_fn(pred, y).item()\n",
    "            correct += (pred.argmax(1) == y).type(torch.float).sum().item()\n",
    "            \n",
    "            _, y_pred_tags = torch.max(pred, dim=1)\n",
    "            y_pred_list.append(y_pred_tags.cpu().numpy())\n",
    "            \n",
    "    y_pred_list = [a.squeeze().tolist() for a in y_pred_list]\n",
    "    y_pred_list = [item for sublist in y_pred_list for item in sublist]\n",
    "    \n",
    "    targets = [item for sublist in targets for item in sublist]\n",
    "\n",
    "    test_loss /= num_batches\n",
    "    correct /= size\n",
    "\n",
    "    print(\n",
    "        f\"Test Error: \\n Accuracy: {(100*correct):>0.1f}%, Avg loss: {test_loss:>8f} \\n\")\n",
    "\n",
    "    return test_loss, np.asarray(y_pred_list), np.asarray(targets), 100*correct"
   ]
  },
  {
   "cell_type": "code",
   "execution_count": 89,
   "id": "b6b141d0-6e4c-410d-8ca0-1c46a856748f",
   "metadata": {},
   "outputs": [
    {
     "name": "stdout",
     "output_type": "stream",
     "text": [
      "input_size 784\n",
      "num_outputs 9\n"
     ]
    }
   ],
   "source": [
    "if model_selection == 'linear':\n",
    "    swil_model = add_output_nodes(ckpt_file, arch='linear', device=device)\n",
    "    swil_model.input_layer.requires_grad_(False)\n",
    "elif model_selection == 'cnn-demo':\n",
    "    swil_model = add_output_nodes(ckpt_file, arch='cnn-demo')\n",
    "    swil_model.conv1.requires_grad_(False)\n",
    "    swil_model.conv2.requires_grad_(False)\n",
    "    swil_model.fc1.requires_grad_(False)\n",
    "    \n",
    "swil_model = swil_model.to(device)"
   ]
  },
  {
   "cell_type": "code",
   "execution_count": 90,
   "id": "e20e68f9-bec2-4f36-86d0-6c9847eab824",
   "metadata": {},
   "outputs": [],
   "source": [
    "swil_optimizer = torch.optim.Adam(swil_model.parameters(), lr=initial_learning_rate)\n",
    "lr_scheduler = torch.optim.lr_scheduler.ExponentialLR(optimizer=swil_optimizer, gamma=decay_rate)"
   ]
  },
  {
   "cell_type": "code",
   "execution_count": 91,
   "id": "87d78d41-7d1b-4962-a141-7ee867d5a74a",
   "metadata": {},
   "outputs": [],
   "source": [
    "fmnist_classes = list(range(8)) + [9]\n",
    "\n",
    "# might not need these\n",
    "FMNIST_trainloader_gen = torch.utils.data.DataLoader(train_data, batch_size=batch_size,\n",
    "                                          shuffle=True, num_workers=2)\n",
    "FMNIST_testloader_gen = torch.utils.data.DataLoader(test_data, batch_size=batch_size,\n",
    "                                          shuffle=True, num_workers=2)\n",
    "\n",
    "class_subsets, class_idxs, subset_size = generate_dls(train_data, fmnist_classes)"
   ]
  },
  {
   "cell_type": "code",
   "execution_count": 92,
   "id": "5507ca83-4c8d-4875-89b5-5b1d0ffa0a93",
   "metadata": {},
   "outputs": [
    {
     "name": "stdout",
     "output_type": "stream",
     "text": [
      "[0.09609197807973552, 0.10619435563736243, 0.09044364222319944, 0.09867387953571367, 0.09158442318419929, 0.21004115016932215, 0.08824028937983215, 0.2187302817906353]\n"
     ]
    }
   ],
   "source": [
    "with open(r'./data/fmnist_sim_scores_boot.txt', 'r') as fp:\n",
    "    sim_scores = [float(i) for i in fp.readlines()]\n",
    "\n",
    "sim_sum = sum(sim_scores)\n",
    "\n",
    "sim_norms = [x/sim_sum for x in sim_scores]\n",
    "\n",
    "boots_sample_size = 75\n",
    "sim_sample_sizes = [27 if x < 0.2 else int(x * boots_sample_size*3.52) for x in sim_norms] + [75]\n",
    "print(sim_norms)\n"
   ]
  },
  {
   "cell_type": "code",
   "execution_count": 93,
   "id": "88028953-a3eb-4d26-bb07-6f953dd03fb0",
   "metadata": {},
   "outputs": [],
   "source": [
    "from random import sample\n",
    "\n",
    "sampled_idxs = []\n",
    "\n",
    "for i in range(len(fmnist_classes)):\n",
    "    idx_sample = sample(class_idxs[i].tolist(), sim_sample_sizes[i])\n",
    "    sampled_idxs += idx_sample\n",
    "\n",
    "swil_train_subset = torch.utils.data.Subset(train_data, sampled_idxs)\n",
    "\n",
    "swil_train_dl = torch.utils.data.DataLoader(swil_train_subset, batch_size=1, shuffle=True, num_workers=2)\n",
    "\n",
    "included_data, excluded_data = split_training_data(test_data, [8])\n",
    "test_swil_loader = DataLoader(included_data, batch_size=batch_size, shuffle=True, num_workers=2)"
   ]
  },
  {
   "cell_type": "markdown",
   "id": "be5ca4a3-bf15-40f5-bd83-59ddf0c2e31e",
   "metadata": {},
   "source": [
    "### Training Loop"
   ]
  },
  {
   "cell_type": "code",
   "execution_count": 94,
   "id": "e0223e81-5399-485e-8010-01765d8c9d31",
   "metadata": {},
   "outputs": [
    {
     "name": "stdout",
     "output_type": "stream",
     "text": [
      "Epoch 1\n",
      "-------------------------------\n",
      "loss: 17.680283  [    0/  349]\n",
      "Test Error: \n",
      " Accuracy: 65.1%, Avg loss: 2.518570 \n",
      "\n",
      "Epoch 2\n",
      "-------------------------------\n",
      "loss: 0.384009  [    0/  349]\n",
      "Test Error: \n",
      " Accuracy: 70.6%, Avg loss: 1.616445 \n",
      "\n",
      "Epoch 3\n",
      "-------------------------------\n",
      "loss: 0.054116  [    0/  349]\n",
      "Test Error: \n",
      " Accuracy: 73.7%, Avg loss: 1.294846 \n",
      "\n",
      "Epoch 4\n",
      "-------------------------------\n",
      "loss: 0.423265  [    0/  349]\n",
      "Test Error: \n",
      " Accuracy: 74.9%, Avg loss: 1.143410 \n",
      "\n",
      "Epoch 5\n",
      "-------------------------------\n",
      "loss: 0.001816  [    0/  349]\n",
      "Test Error: \n",
      " Accuracy: 76.5%, Avg loss: 1.043125 \n",
      "\n",
      "Epoch 6\n",
      "-------------------------------\n",
      "loss: 0.914329  [    0/  349]\n",
      "Test Error: \n",
      " Accuracy: 76.8%, Avg loss: 1.005143 \n",
      "\n",
      "Epoch 7\n",
      "-------------------------------\n",
      "loss: 0.045568  [    0/  349]\n",
      "Test Error: \n",
      " Accuracy: 77.5%, Avg loss: 0.957673 \n",
      "\n",
      "Epoch 8\n",
      "-------------------------------\n",
      "loss: 0.000237  [    0/  349]\n",
      "Test Error: \n",
      " Accuracy: 77.7%, Avg loss: 0.942110 \n",
      "\n",
      "Epoch 9\n",
      "-------------------------------\n",
      "loss: 0.000685  [    0/  349]\n",
      "Test Error: \n",
      " Accuracy: 77.9%, Avg loss: 0.930963 \n",
      "\n",
      "Epoch 10\n",
      "-------------------------------\n",
      "loss: 0.002442  [    0/  349]\n",
      "Test Error: \n",
      " Accuracy: 77.9%, Avg loss: 0.928414 \n",
      "\n",
      "Epoch 11\n",
      "-------------------------------\n",
      "loss: 0.015001  [    0/  349]\n",
      "Test Error: \n",
      " Accuracy: 77.9%, Avg loss: 0.915914 \n",
      "\n",
      "Epoch 12\n",
      "-------------------------------\n",
      "loss: 0.180256  [    0/  349]\n",
      "Test Error: \n",
      " Accuracy: 78.0%, Avg loss: 0.910975 \n",
      "\n",
      "Epoch 13\n",
      "-------------------------------\n",
      "loss: 0.000010  [    0/  349]\n",
      "Test Error: \n",
      " Accuracy: 78.0%, Avg loss: 0.905145 \n",
      "\n",
      "Epoch 14\n",
      "-------------------------------\n",
      "loss: 5.753978  [    0/  349]\n",
      "Test Error: \n",
      " Accuracy: 78.0%, Avg loss: 0.905541 \n",
      "\n",
      "Epoch 15\n",
      "-------------------------------\n",
      "loss: 0.000036  [    0/  349]\n",
      "Test Error: \n",
      " Accuracy: 77.9%, Avg loss: 0.900977 \n",
      "\n",
      "Done!\n"
     ]
    }
   ],
   "source": [
    "weight_dir = './logs/'\n",
    "model_file = weight_dir + model_selection + '_' + dataset_selection + '_' + 'holdout' + '_' + '[8]' + '_swil7.pt'\n",
    "recall_file = weight_dir + model_selection + '_' + dataset_selection + '_' + 'holdout' + '_' + '[8]' + '_swil_recall7.npy'\n",
    "#train_losses_file = weight_dir + model_selection + '_' + dataset_selection + '_' + 'holdout' + '_' + '[8]' + '_swil_train_loss0.txt'\n",
    "test_losses_file = weight_dir + model_selection + '_' + dataset_selection + '_' + 'holdout' + '_' + '[8]' + 'swil_test_loss7.txt'\n",
    "accuracies = weight_dir + model_selection + '_' + dataset_selection + '_' + 'holdout' + '_' + '[8]' + 'swil_accuracies7.txt'\n",
    "\n",
    "train_losses = []\n",
    "test_losses = []\n",
    "#t = trange(num_epochs)\n",
    "t = range(num_epochs)\n",
    "y_preds = []\n",
    "y_actuals = []\n",
    "accuracies = []\n",
    "\n",
    "for epoch in t:\n",
    "    print(f\"Epoch {epoch+1}\\n-------------------------------\")\n",
    "    train_loss = train(swil_train_dl, swil_model, loss_fn, swil_optimizer, device, swap=True, swap_labels=[9,8])\n",
    "    test_loss, y_pred, y_actual, acc = test(test_swil_loader, swil_model, loss_fn, device, swap=True, swap_labels=[9,8])\n",
    "    #train_losses.append(train_loss)\n",
    "    test_losses.append(test_loss)\n",
    "    y_preds.append(y_pred)\n",
    "    y_actuals.append(y_actual)\n",
    "    accuracies.append(acc)\n",
    "    \n",
    "    #t.set_description(f\"Epoch {epoch} train loss: {epoch_loss_train[-1]:.3f}\")\n",
    "    lr_scheduler.step()\n",
    "    \n",
    "torch.save(swil_model.state_dict(), model_file)\n",
    "\n",
    "recalls = get_recall_per_epoch(y_actuals, y_preds, 9)\n",
    "np.save(recall_file, recalls)\n",
    "\n",
    "#with open(train_losses_file, 'w') as fp:\n",
    "#    for s in train_losses:\n",
    "#        fp.write(\"%s\\n\" % s)\n",
    "        \n",
    "with open(test_losses_file, 'w') as fp:\n",
    "    for x in test_losses:\n",
    "        fp.write(\"%s\\n\" % x)\n",
    "\n",
    "print(\"Done!\")"
   ]
  },
  {
   "cell_type": "code",
   "execution_count": null,
   "id": "dbf568cc-ecc7-4183-9bd6-15eaee31a4f6",
   "metadata": {},
   "outputs": [],
   "source": []
  },
  {
   "cell_type": "markdown",
   "id": "83e63096-ece6-4fbd-ae03-3eb17d45d9de",
   "metadata": {
    "jp-MarkdownHeadingCollapsed": true,
    "tags": []
   },
   "source": [
    "## G-SWIL"
   ]
  },
  {
   "cell_type": "code",
   "execution_count": null,
   "id": "99a6967c-e73b-4e94-a312-39e04b7a82dd",
   "metadata": {},
   "outputs": [],
   "source": [
    "if model_selection == 'linear':\n",
    "    gswil_model = add_output_nodes(ckpt_file, arch='linear')\n",
    "    gswil_model.input_layer.requires_grad_(False)\n",
    "elif model_selection == 'cnn-demo':\n",
    "    gswil_model = add_output_nodes(ckpt_file, arch='cnn-demo')\n",
    "    gswil_model.conv1.requires_grad_(False)\n",
    "    gswil_model.conv2.requires_grad_(False)\n",
    "    gswil_model.fc1.requires_grad_(False)\n",
    "    \n",
    "gswil_model = gswil_model.to(device)"
   ]
  },
  {
   "cell_type": "code",
   "execution_count": null,
   "id": "c2c9ce9e-6f84-45ec-b13b-e6455a450a4f",
   "metadata": {},
   "outputs": [],
   "source": [
    "optimizer = torch.optim.Adam(gswil_model.parameters(), lr=initial_learning_rate)\n",
    "lr_scheduler = torch.optim.lr_scheduler.ExponentialLR(optimizer=optimizer, gamma=decay_rate)"
   ]
  },
  {
   "cell_type": "markdown",
   "id": "53aa4641-f7b3-4296-b94d-835323cc99f3",
   "metadata": {},
   "source": [
    "### Training Loop"
   ]
  },
  {
   "cell_type": "code",
   "execution_count": null,
   "id": "33ca83a9-a427-41c2-ae3a-5769101c1fb4",
   "metadata": {},
   "outputs": [],
   "source": [
    "train_losses = []\n",
    "test_losses = []\n",
    "#t = trange(num_epochs)\n",
    "t = range(num_epochs)\n",
    "\n",
    "for epoch in t:\n",
    "    print(f\"Epoch {epoch+1}\\n-------------------------------\")\n",
    "    train_loss = train(train_inc_loader, model, loss_fn, optimizer, device)\n",
    "    test_loss = test(test_inc_loader, model, loss_fn, device)\n",
    "    train_losses.append(train_loss)\n",
    "    test_losses.append(test_loss)\n",
    "    \n",
    "    #t.set_description(f\"Epoch {epoch} train loss: {epoch_loss_train[-1]:.3f}\")\n",
    "    lr_scheduler.step()\n",
    "    \n",
    "torch.save(model.state_dict(), model_file)\n",
    "print(\"Done!\")"
   ]
  }
 ],
 "metadata": {
  "kernelspec": {
   "display_name": "Python 3 (ipykernel)",
   "language": "python",
   "name": "python3"
  },
  "language_info": {
   "codemirror_mode": {
    "name": "ipython",
    "version": 3
   },
   "file_extension": ".py",
   "mimetype": "text/x-python",
   "name": "python",
   "nbconvert_exporter": "python",
   "pygments_lexer": "ipython3",
   "version": "3.10.8"
  }
 },
 "nbformat": 4,
 "nbformat_minor": 5
}
